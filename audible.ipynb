{
 "cells": [
  {
   "cell_type": "code",
   "execution_count": 2,
   "id": "d83e0dc7-a83d-4e5a-9e17-64128fbc972f",
   "metadata": {},
   "outputs": [],
   "source": [
    "from selenium import webdriver\n",
    "from selenium.webdriver.support.ui import Select, WebDriverWait\n",
    "from selenium.webdriver.chrome.options import Options\n",
    "from selenium.webdriver.common.by import By\n",
    "from selenium.webdriver.support import expected_conditions as EC\n",
    "import pandas as pd\n",
    "import time"
   ]
  },
  {
   "cell_type": "markdown",
   "id": "93a48432-1918-4992-a0d6-ffd2b6128213",
   "metadata": {},
   "source": [
    "### Change Webpage Link Of Audiable As Per Category For Scrap "
   ]
  },
  {
   "cell_type": "code",
   "execution_count": 3,
   "id": "17f63ff2-765c-4219-bdb5-2876b702480d",
   "metadata": {},
   "outputs": [],
   "source": [
    "# change web link as per your category\n",
    "web  = 'https://www.audible.in/adblbestsellers?ref=a_search_t1_navTop_pl1cg0c1r0&pf_rd_p=88b2dc24-01ab-437a-bf8e-1faf3da486fb&pf_rd_r=VV04PSD0ZPFDF5KA7BK3&pageLoadId=jmu5LLlZOPWjNC6o&creativeId=2e6787a2-0cd0-4a6e-afe0-05766cd505e5'\n",
    "path = '/home/priteshs/Downloads/chromedriver'"
   ]
  },
  {
   "cell_type": "code",
   "execution_count": 73,
   "id": "b90667ae-9c65-4b5d-a6c6-e724ce889bcb",
   "metadata": {},
   "outputs": [],
   "source": [
    "options = Options()\n",
    "options.headless = True\n",
    "options.add_argument('window-size=1920x1080')\n",
    "\n",
    "\n",
    "driver = webdriver.Chrome(path)\n",
    "driver.get(web)\n",
    "driver.maximize_window()\n",
    "\n",
    "# pagination\n",
    "pagination = driver.find_element_by_xpath('//ul[contains(@class,\"pagingElements\")]')\n",
    "pages = pagination.find_elements_by_tag_name('li')\n",
    "last_page = int(pages[-2].text)\n",
    "\n",
    "current_page = 1\n",
    "\n",
    "book_title = []\n",
    "book_author = []\n",
    "book_length = []\n",
    "book_rating = []\n",
    "\n",
    "while current_page <= last_page:\n",
    "\n",
    "    # item per page is 50\n",
    "    pages = Select(driver.find_element_by_xpath('//select[@name=\"pageSize\"]'))\n",
    "    pages.select_by_visible_text(driver.find_elements_by_xpath('//select[@name=\"pageSize\"]/option')[-1].text)\n",
    "\n",
    "    # sleep after change item per page to reload contain of site\n",
    "    # implicit wait   \n",
    "    # time.sleep(2)\n",
    "    # container = driver.find_element_by_class_name('adbl-impression-container ')\n",
    "    # products = container.find_elements_by_xpath('.//li[contains(@class,\"productListItem\")]')\n",
    "\n",
    "    # explicit wait\n",
    "    container = WebDriverWait(driver,3).until(EC.presence_of_element_located((By.CLASS_NAME,'adbl-impression-container ')))\n",
    "    products = WebDriverWait(container,3).until(EC.presence_of_all_elements_located((By.XPATH,'.//li[contains(@class,\"productListItem\")]')))\n",
    "    \n",
    "    for book in products:\n",
    "        book_title.append(book.find_element_by_xpath('.//h3[contains(@class,\"bc-heading\")]/a').text)\n",
    "        book_author.append(book.find_element_by_xpath('.//li[contains(@class,\"authorLabel\")]').text.split(':')[1])\n",
    "        book_length.append(book.find_element_by_xpath('.//li[contains(@class,\"runtimeLabel\")]').text.split(':')[1])\n",
    "        book_rating.append(book.find_element_by_xpath('.//li[contains(@class,\"ratingsLabel\")]/span[contains(@class,\"bc-pub-offscreen\")]').text)\n",
    "\n",
    "    current_page += 1\n",
    "    try:\n",
    "        next_page = driver.find_element_by_xpath('//span[contains(@class,\"nextButton\")]')\n",
    "        next_page.click()\n",
    "    except:\n",
    "        pass\n",
    "\n",
    "\n",
    "# print(f'book_title: {len(book_title)}, book_author: {len(book_author)}, book_length: {len(book_length)}, book_rating: {len(book_rating)}')\n",
    "\n",
    "df = pd.DataFrame({'title':book_title, 'author':book_author, 'length':book_length, 'rating':book_rating})\n",
    "\n",
    "df.to_csv('book_pagination.csv',index=False)"
   ]
  },
  {
   "cell_type": "code",
   "execution_count": null,
   "id": "171f847c-2f2d-4507-bab1-da0fd248c4d9",
   "metadata": {},
   "outputs": [],
   "source": [
    "\n",
    "\n"
   ]
  }
 ],
 "metadata": {
  "kernelspec": {
   "display_name": "Python 3 (ipykernel)",
   "language": "python",
   "name": "python3"
  },
  "language_info": {
   "codemirror_mode": {
    "name": "ipython",
    "version": 3
   },
   "file_extension": ".py",
   "mimetype": "text/x-python",
   "name": "python",
   "nbconvert_exporter": "python",
   "pygments_lexer": "ipython3",
   "version": "3.11.4"
  }
 },
 "nbformat": 4,
 "nbformat_minor": 5
}
